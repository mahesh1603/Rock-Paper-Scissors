{
 "cells": [
  {
   "cell_type": "markdown",
   "id": "d3ec0807",
   "metadata": {},
   "source": [
    "#  Rock Paper Scissors Game using Python"
   ]
  },
  {
   "cell_type": "markdown",
   "id": "02f574c0",
   "metadata": {},
   "source": [
    "Rock Paper Scissors is a hand game usually played between two people. \n",
    "\n",
    "In this game, scissors can beat paper, paper can beat rock, and rock can beat scissors."
   ]
  },
  {
   "cell_type": "markdown",
   "id": "4f7c62b5",
   "metadata": {},
   "source": [
    "To create and play rock paper scissors, I will be using the if and elif statements in Python."
   ]
  },
  {
   "cell_type": "markdown",
   "id": "0033bf33",
   "metadata": {},
   "source": [
    "# I'll be creating 2 types of game \n",
    "\n",
    "1. Game between 1-user and computer\n",
    "\n",
    "2. Game between 2 players"
   ]
  },
  {
   "cell_type": "markdown",
   "id": "dfcad3cb",
   "metadata": {},
   "source": [
    "I will prepare this game to be played between two players. \n",
    "\n",
    "Player-1 will be the user, and player-2 will be the computer. \n",
    "\n",
    "Player one will manually select the rock paper or scissor, while player two will choose randomly. \n",
    "\n",
    "So I will also use the random module in Python to create this game."
   ]
  },
  {
   "cell_type": "markdown",
   "id": "d272ff26",
   "metadata": {},
   "source": [
    "# 1. Game between 1-user and Computer"
   ]
  },
  {
   "cell_type": "markdown",
   "id": "76b93786",
   "metadata": {},
   "source": [
    "# Importing library - we use library - \"Random\""
   ]
  },
  {
   "cell_type": "code",
   "execution_count": 1,
   "id": "ffd7ad12",
   "metadata": {},
   "outputs": [],
   "source": [
    "import random"
   ]
  },
  {
   "cell_type": "code",
   "execution_count": 2,
   "id": "3a092229",
   "metadata": {},
   "outputs": [
    {
     "name": "stdout",
     "output_type": "stream",
     "text": [
      "Select Rock, Paper, or Scissor :Rock\n",
      "Player 1 selected:  rock\n"
     ]
    }
   ],
   "source": [
    "player1 = input(\"Select Rock, Paper, or Scissor :\").lower()\n",
    "\n",
    "print(\"Player 1 selected: \", player1)"
   ]
  },
  {
   "cell_type": "code",
   "execution_count": 3,
   "id": "3dcf990d",
   "metadata": {},
   "outputs": [
    {
     "name": "stdout",
     "output_type": "stream",
     "text": [
      "Player 2 selected:  paper\n"
     ]
    }
   ],
   "source": [
    "player2 = random.choice([\"Rock\", \"Paper\", \"Scissor\"]).lower()\n",
    "\n",
    "print(\"Player 2 selected: \", player2)"
   ]
  },
  {
   "cell_type": "code",
   "execution_count": 4,
   "id": "1c1a3e92",
   "metadata": {},
   "outputs": [
    {
     "name": "stdout",
     "output_type": "stream",
     "text": [
      "Player 2 Won\n"
     ]
    }
   ],
   "source": [
    "if player1 == \"rock\" and player2 == \"paper\":\n",
    "    print(\"Player 2 Won\")\n",
    "\n",
    "elif player1 == \"paper\" and player2 == \"scissor\":\n",
    "    print(\"Player 2 Won\")\n",
    "\n",
    "elif player1 == \"scissor\" and player2 == \"rock\":\n",
    "    print(\"Player 2 Won\")\n",
    "\n",
    "elif player1 == player2:\n",
    "    print(\"Tie\")\n",
    "else:\n",
    "    print(\"Player 1 Won\")"
   ]
  },
  {
   "cell_type": "markdown",
   "id": "0ecb0ea5",
   "metadata": {},
   "source": [
    "# 2. Game between 2 players"
   ]
  },
  {
   "cell_type": "code",
   "execution_count": 5,
   "id": "e2c9c3c3",
   "metadata": {},
   "outputs": [
    {
     "name": "stdout",
     "output_type": "stream",
     "text": [
      "Select Rock, Paper, or Scissor :Paper\n",
      "Player 1 selected:  paper\n",
      "\n",
      "------------\n",
      "['Rock', 'Paper', 'Scissor']Rock\n",
      "Player 2 selected:  rock\n"
     ]
    }
   ],
   "source": [
    "player1 = input(\"Select Rock, Paper, or Scissor :\").lower()\n",
    "\n",
    "print(\"Player 1 selected: \", player1)\n",
    "\n",
    "print(\"\\n------------\")\n",
    "\n",
    "player2 = input([\"Rock\", \"Paper\", \"Scissor\"]).lower()\n",
    "\n",
    "print(\"Player 2 selected: \", player2)"
   ]
  },
  {
   "cell_type": "code",
   "execution_count": 6,
   "id": "1a4e8592",
   "metadata": {},
   "outputs": [
    {
     "name": "stdout",
     "output_type": "stream",
     "text": [
      "Player 1 Won\n"
     ]
    }
   ],
   "source": [
    "if player1 == \"rock\" and player2 == \"paper\":\n",
    "    print(\"Player 2 Won\")\n",
    "\n",
    "elif player1 == \"paper\" and player2 == \"scissor\":\n",
    "    print(\"Player 2 Won\")\n",
    "\n",
    "elif player1 == \"scissor\" and player2 == \"rock\":\n",
    "    print(\"Player 2 Won\")\n",
    "\n",
    "elif player1 == player2:\n",
    "    print(\"Tie\")\n",
    "else:\n",
    "    print(\"Player 1 Won\")"
   ]
  },
  {
   "cell_type": "code",
   "execution_count": null,
   "id": "7722503e",
   "metadata": {},
   "outputs": [],
   "source": []
  }
 ],
 "metadata": {
  "kernelspec": {
   "display_name": "Python 3 (ipykernel)",
   "language": "python",
   "name": "python3"
  },
  "language_info": {
   "codemirror_mode": {
    "name": "ipython",
    "version": 3
   },
   "file_extension": ".py",
   "mimetype": "text/x-python",
   "name": "python",
   "nbconvert_exporter": "python",
   "pygments_lexer": "ipython3",
   "version": "3.9.12"
  }
 },
 "nbformat": 4,
 "nbformat_minor": 5
}
